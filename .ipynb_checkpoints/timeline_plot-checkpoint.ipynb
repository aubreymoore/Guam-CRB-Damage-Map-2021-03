{
 "cells": [
  {
   "cell_type": "code",
   "execution_count": 1,
   "id": "caring-baghdad",
   "metadata": {},
   "outputs": [],
   "source": [
    "import pandas as pd\n",
    "import numpy as np\n",
    "from math import sqrt"
   ]
  },
  {
   "cell_type": "code",
   "execution_count": 2,
   "id": "portuguese-license",
   "metadata": {},
   "outputs": [],
   "source": [
    "df = pd.DataFrame(\n",
    "    {\n",
    "    'n': [57666,76088,67674],\n",
    "    'percent_damaged': [19.2,21.5,22.9],\n",
    "    'start_date': ['2020-09-30','2020-12-11','2021-03-03'],\n",
    "    'end_date': ['2020-10-22','2020-12-24','2021-03-18']\n",
    "    })   "
   ]
  },
  {
   "cell_type": "code",
   "execution_count": 3,
   "id": "opponent-terry",
   "metadata": {},
   "outputs": [
    {
     "data": {
      "text/html": [
       "<div>\n",
       "<style scoped>\n",
       "    .dataframe tbody tr th:only-of-type {\n",
       "        vertical-align: middle;\n",
       "    }\n",
       "\n",
       "    .dataframe tbody tr th {\n",
       "        vertical-align: top;\n",
       "    }\n",
       "\n",
       "    .dataframe thead th {\n",
       "        text-align: right;\n",
       "    }\n",
       "</style>\n",
       "<table border=\"1\" class=\"dataframe\">\n",
       "  <thead>\n",
       "    <tr style=\"text-align: right;\">\n",
       "      <th></th>\n",
       "      <th>n</th>\n",
       "      <th>percent_damaged</th>\n",
       "      <th>start_date</th>\n",
       "      <th>end_date</th>\n",
       "      <th>start</th>\n",
       "      <th>end</th>\n",
       "      <th>time</th>\n",
       "    </tr>\n",
       "  </thead>\n",
       "  <tbody>\n",
       "    <tr>\n",
       "      <th>0</th>\n",
       "      <td>57666</td>\n",
       "      <td>19.2</td>\n",
       "      <td>2020-09-30</td>\n",
       "      <td>2020-10-22</td>\n",
       "      <td>2020-09-30</td>\n",
       "      <td>2020-10-22</td>\n",
       "      <td>2020-10-11 00:00:00</td>\n",
       "    </tr>\n",
       "    <tr>\n",
       "      <th>1</th>\n",
       "      <td>76088</td>\n",
       "      <td>21.5</td>\n",
       "      <td>2020-12-11</td>\n",
       "      <td>2020-12-24</td>\n",
       "      <td>2020-12-11</td>\n",
       "      <td>2020-12-24</td>\n",
       "      <td>2020-12-17 12:00:00</td>\n",
       "    </tr>\n",
       "    <tr>\n",
       "      <th>2</th>\n",
       "      <td>67674</td>\n",
       "      <td>22.9</td>\n",
       "      <td>2021-03-03</td>\n",
       "      <td>2021-03-18</td>\n",
       "      <td>2021-03-03</td>\n",
       "      <td>2021-03-18</td>\n",
       "      <td>2021-03-10 12:00:00</td>\n",
       "    </tr>\n",
       "  </tbody>\n",
       "</table>\n",
       "</div>"
      ],
      "text/plain": [
       "       n  percent_damaged  start_date    end_date      start        end  \\\n",
       "0  57666             19.2  2020-09-30  2020-10-22 2020-09-30 2020-10-22   \n",
       "1  76088             21.5  2020-12-11  2020-12-24 2020-12-11 2020-12-24   \n",
       "2  67674             22.9  2021-03-03  2021-03-18 2021-03-03 2021-03-18   \n",
       "\n",
       "                 time  \n",
       "0 2020-10-11 00:00:00  \n",
       "1 2020-12-17 12:00:00  \n",
       "2 2021-03-10 12:00:00  "
      ]
     },
     "execution_count": 3,
     "metadata": {},
     "output_type": "execute_result"
    }
   ],
   "source": [
    "# midpoint of two date columns\n",
    " \n",
    "# make time data into Timestamp format\n",
    "def try_totime(t):\n",
    "    try:\n",
    "        return pd.Timestamp(t)\n",
    "    except:\n",
    "        return np.nan\n",
    "     \n",
    "df['start'] = df.start_date.map(try_totime)\n",
    "df['end'] = df.end_date.map(try_totime)\n",
    " \n",
    "# generate midpoint time\n",
    "# harder than it would seem...\n",
    "df['time'] = df.start + (df.end - df.start)/2\n",
    "df"
   ]
  },
  {
   "cell_type": "code",
   "execution_count": 4,
   "id": "subtle-soccer",
   "metadata": {},
   "outputs": [],
   "source": [
    "def sem(percent, n):\n",
    "    prop = percent/100\n",
    "    r = sqrt(prop*(1-prop)/n)\n",
    "    return r*100\n",
    "\n",
    "#sem(19.2, 57666)"
   ]
  },
  {
   "cell_type": "code",
   "execution_count": 5,
   "id": "vanilla-interval",
   "metadata": {},
   "outputs": [
    {
     "data": {
      "image/png": "[encoded data removed]",
      "text/plain": [
       "<Figure size 432x288 with 1 Axes>"
      ]
     },
     "metadata": {
      "needs_background": "light"
     },
     "output_type": "display_data"
    }
   ],
   "source": [
    "df['y_error'] = df.apply(lambda row: sem(row['percent_damaged'], row['n']), axis=1)\n",
    "p = df.plot(x='time',\n",
    "        xlabel='',\n",
    "        y='percent_damaged',\n",
    "        yerr='y_error',\n",
    "        kind='line', \n",
    "        title=\"Percent of Guam's coconut palms damaged\\nby coconut rhinoceros beetle\", \n",
    "        legend=False,\n",
    "        color='red', \n",
    "        yticks = [19,20, 21, 22, 23]\n",
    "       )\n",
    "p;"
   ]
  },
  {
   "cell_type": "code",
   "execution_count": 6,
   "id": "partial-investigation",
   "metadata": {},
   "outputs": [],
   "source": [
    "p.figure.savefig('timeline.pdf')\n",
    "p.figure.savefig('timeline.png')"
   ]
  }
 ],
 "metadata": {
  "kernelspec": {
   "display_name": "Python 3",
   "language": "python",
   "name": "python3"
  },
  "language_info": {
   "codemirror_mode": {
    "name": "ipython",
    "version": 3
   },
   "file_extension": ".py",
   "mimetype": "text/x-python",
   "name": "python",
   "nbconvert_exporter": "python",
   "pygments_lexer": "ipython3",
   "version": "3.6.9"
  }
 },
 "nbformat": 4,
 "nbformat_minor": 5
}
